{
  "nbformat": 4,
  "nbformat_minor": 0,
  "metadata": {
    "colab": {
      "provenance": [],
      "authorship_tag": "ABX9TyNtRL5a5AoRD6/8EV0ghS9O",
      "include_colab_link": true
    },
    "kernelspec": {
      "name": "python3",
      "display_name": "Python 3"
    },
    "language_info": {
      "name": "python"
    }
  },
  "cells": [
    {
      "cell_type": "markdown",
      "metadata": {
        "id": "view-in-github",
        "colab_type": "text"
      },
      "source": [
        "<a href=\"https://colab.research.google.com/github/gurpinder7473/Resizing_100images_to-50-smaller-_using_OpenCV/blob/main/Resizing_image_to_50_(smaller)_using_OpenCV.ipynb\" target=\"_parent\"><img src=\"https://colab.research.google.com/assets/colab-badge.svg\" alt=\"Open In Colab\"/></a>"
      ]
    },
    {
      "cell_type": "markdown",
      "source": [
        "###This code is for conversion of image to 50% smaller without using mount drive method\n",
        "\n"
      ],
      "metadata": {
        "id": "BhsJrLMgG9wX"
      }
    },
    {
      "cell_type": "code",
      "execution_count": null,
      "metadata": {
        "colab": {
          "base_uri": "https://localhost:8080/"
        },
        "id": "I7aZI8OrKp2F",
        "outputId": "6f045fda-7ecd-4cfb-b08d-c599d6153f86"
      },
      "outputs": [
        {
          "output_type": "stream",
          "name": "stdout",
          "text": [
            " Image Resizer (50% Scale)\n",
            "Resizing 1 image(s) to 50% of original size...\n",
            "\n",
            "1. Saved resized image: placeholder.png\n",
            "\n",
            " All images have been resized successfully!\n"
          ]
        }
      ],
      "source": [
        "\n",
        "#  Required Libraries\n",
        "import cv2                   # OpenCV for image processing\n",
        "from pathlib import Path     # For handling paths cleanly\n",
        "\n",
        "# Resize function\n",
        "def resize_images(input_folder, output_folder, scale_percent=50):\n",
        "    \"\"\"\n",
        "    Resizes all supported images in the input_folder to a given scale percentage\n",
        "    and saves them in the output_folder.\n",
        "    \"\"\"\n",
        "    input_path = Path(input_folder)\n",
        "    output_path = Path(output_folder)\n",
        "    output_path.mkdir(parents=True, exist_ok=True)\n",
        "\n",
        "    supported_formats = ['.jpg', '.jpeg', '.png', '.bmp']\n",
        "    image_files = [f for f in input_path.iterdir() if f.suffix.lower() in supported_formats]\n",
        "\n",
        "    if not image_files:\n",
        "        print(\"No supported images found in the input folder.\")\n",
        "        return\n",
        "\n",
        "    print(f\"Resizing {len(image_files)} image(s) to {scale_percent}% of original size...\\n\")\n",
        "\n",
        "    for idx, image_file in enumerate(image_files, start=1):\n",
        "        img = cv2.imread(str(image_file))\n",
        "        if img is None:\n",
        "            print(f\"Failed to load: {image_file.name}\")\n",
        "            continue\n",
        "\n",
        "        # Calculate new dimensions\n",
        "        width = int(img.shape[1] * scale_percent / 100)\n",
        "        height = int(img.shape[0] * scale_percent / 100)\n",
        "        resized_img = cv2.resize(img, (width, height), interpolation=cv2.INTER_AREA)\n",
        "\n",
        "        output_file = output_path / image_file.name\n",
        "        cv2.imwrite(str(output_file), resized_img)\n",
        "        print(f\"{idx}. Saved resized image: {output_file.name}\")\n",
        "\n",
        "    print(\"\\n All images have been resized successfully!\")\n",
        "\n",
        "#Main Execution\n",
        "if __name__ == \"__main__\":\n",
        "    print(\" Image Resizer (50% Scale)\")\n",
        "\n",
        "    # Use paths accessible in Google Colab\n",
        "    input_dir = r\"/content/grayscale\"\n",
        "    output_dir = r\"/content/resized\"\n",
        "\n",
        "    resize_images(input_dir, output_dir, scale_percent=50)"
      ]
    }
  ]
}